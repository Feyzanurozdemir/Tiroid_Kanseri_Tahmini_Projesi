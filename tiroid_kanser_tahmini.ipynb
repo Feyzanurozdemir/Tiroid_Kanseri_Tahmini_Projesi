{
 "cells": [
  {
   "cell_type": "code",
   "execution_count": 3,
   "metadata": {},
   "outputs": [],
   "source": [
    "#!pip install --upgrade numpy\n",
    "#pip install --upgrade scikit-learn"
   ]
  },
  {
   "cell_type": "markdown",
   "metadata": {},
   "source": [
    "<b> Tiroid Kanseri Risk Veri Seti Kullanılara Kanseri Tahmin etme (Sınıflandırma)"
   ]
  },
  {
   "cell_type": "code",
   "execution_count": 85,
   "metadata": {},
   "outputs": [],
   "source": [
    "import numpy as np\n",
    "import pandas as pd\n",
    "import matplotlib.pyplot as plt\n",
    "from sklearn.model_selection import train_test_split\n",
    "from sklearn.ensemble import RandomForestClassifier\n",
    "import sklearn as sk\n",
    "from sklearn.ensemble import RandomForestClassifier\n",
    "import seaborn"
   ]
  },
  {
   "cell_type": "code",
   "execution_count": 86,
   "metadata": {},
   "outputs": [
    {
     "name": "stdout",
     "output_type": "stream",
     "text": [
      "1.3.2\n"
     ]
    }
   ],
   "source": [
    "import sklearn\n",
    "print(sklearn.__version__)"
   ]
  },
  {
   "attachments": {},
   "cell_type": "markdown",
   "metadata": {},
   "source": [
    "<b> Hangi Veri Setini Kullandım?\n",
    "- ‘Tiroid Kanseri Risk Veri Seti’ isimli veri setini kullandım.\n",
    "- Kaggle’dan ulaştım.\n",
    "- Veri seti; 12.761 satır, 17 sütundan oluşmaktadır.\n",
    "- Eksik değer 1 satırda vardır.\n",
    "- Bu veri seti, 15 yıllık bir süre boyunca toplandı ve her hasta en az 10 yıl takip edildi.\n",
    " <br><br>\n",
    "    \n",
    "<b>   Hangi Algoritmayı Kullandım?\n",
    "- Random Forest Algoritmasını kullandım.\n",
    "     <br><br>\n",
    "    \n",
    "<b> Hangi Analizleri Yaptım?\n",
    "- Model doğruluğunu çeşitli metrikler ile hesapladım.\n",
    "- Pasta grafiği, histogram gibi çeşitli grafikler çizdirerek hastaların kanser riskleri, yaşları ile kanser olup olmama durumları gibi durumları analiz ettim.\n"
   ]
  },
  {
   "cell_type": "code",
   "execution_count": 87,
   "metadata": {},
   "outputs": [],
   "source": [
    "tyroiddata=pd.read_csv(\"thyroid_cancer_risk_data.csv\")"
   ]
  },
  {
   "cell_type": "code",
   "execution_count": 88,
   "metadata": {},
   "outputs": [
    {
     "data": {
      "text/plain": [
       "(12761, 17)"
      ]
     },
     "execution_count": 88,
     "metadata": {},
     "output_type": "execute_result"
    }
   ],
   "source": [
    "np.shape(tyroiddata)"
   ]
  },
  {
   "cell_type": "code",
   "execution_count": 89,
   "metadata": {},
   "outputs": [
    {
     "data": {
      "text/html": [
       "<div>\n",
       "<style scoped>\n",
       "    .dataframe tbody tr th:only-of-type {\n",
       "        vertical-align: middle;\n",
       "    }\n",
       "\n",
       "    .dataframe tbody tr th {\n",
       "        vertical-align: top;\n",
       "    }\n",
       "\n",
       "    .dataframe thead th {\n",
       "        text-align: right;\n",
       "    }\n",
       "</style>\n",
       "<table border=\"1\" class=\"dataframe\">\n",
       "  <thead>\n",
       "    <tr style=\"text-align: right;\">\n",
       "      <th></th>\n",
       "      <th>Patient_ID</th>\n",
       "      <th>Age</th>\n",
       "      <th>Gender</th>\n",
       "      <th>Country</th>\n",
       "      <th>Ethnicity</th>\n",
       "      <th>Family_History</th>\n",
       "      <th>Radiation_Exposure</th>\n",
       "      <th>Iodine_Deficiency</th>\n",
       "      <th>Smoking</th>\n",
       "      <th>Obesity</th>\n",
       "      <th>Diabetes</th>\n",
       "      <th>TSH_Level</th>\n",
       "      <th>T3_Level</th>\n",
       "      <th>T4_Level</th>\n",
       "      <th>Nodule_Size</th>\n",
       "      <th>Thyroid_Cancer_Risk</th>\n",
       "      <th>Diagnosis</th>\n",
       "    </tr>\n",
       "  </thead>\n",
       "  <tbody>\n",
       "    <tr>\n",
       "      <th>0</th>\n",
       "      <td>1</td>\n",
       "      <td>66</td>\n",
       "      <td>Male</td>\n",
       "      <td>Russia</td>\n",
       "      <td>Caucasian</td>\n",
       "      <td>No</td>\n",
       "      <td>Yes</td>\n",
       "      <td>No</td>\n",
       "      <td>No</td>\n",
       "      <td>No</td>\n",
       "      <td>No</td>\n",
       "      <td>9.37</td>\n",
       "      <td>1.67</td>\n",
       "      <td>6.16</td>\n",
       "      <td>1.08</td>\n",
       "      <td>Low</td>\n",
       "      <td>Benign</td>\n",
       "    </tr>\n",
       "    <tr>\n",
       "      <th>1</th>\n",
       "      <td>2</td>\n",
       "      <td>29</td>\n",
       "      <td>Male</td>\n",
       "      <td>Germany</td>\n",
       "      <td>Hispanic</td>\n",
       "      <td>No</td>\n",
       "      <td>Yes</td>\n",
       "      <td>No</td>\n",
       "      <td>No</td>\n",
       "      <td>No</td>\n",
       "      <td>No</td>\n",
       "      <td>1.83</td>\n",
       "      <td>1.73</td>\n",
       "      <td>10.54</td>\n",
       "      <td>4.05</td>\n",
       "      <td>Low</td>\n",
       "      <td>Benign</td>\n",
       "    </tr>\n",
       "    <tr>\n",
       "      <th>2</th>\n",
       "      <td>3</td>\n",
       "      <td>86</td>\n",
       "      <td>Male</td>\n",
       "      <td>Nigeria</td>\n",
       "      <td>Caucasian</td>\n",
       "      <td>No</td>\n",
       "      <td>No</td>\n",
       "      <td>No</td>\n",
       "      <td>No</td>\n",
       "      <td>No</td>\n",
       "      <td>No</td>\n",
       "      <td>6.26</td>\n",
       "      <td>2.59</td>\n",
       "      <td>10.57</td>\n",
       "      <td>4.61</td>\n",
       "      <td>Low</td>\n",
       "      <td>Benign</td>\n",
       "    </tr>\n",
       "    <tr>\n",
       "      <th>3</th>\n",
       "      <td>4</td>\n",
       "      <td>75</td>\n",
       "      <td>Female</td>\n",
       "      <td>India</td>\n",
       "      <td>Asian</td>\n",
       "      <td>No</td>\n",
       "      <td>No</td>\n",
       "      <td>No</td>\n",
       "      <td>No</td>\n",
       "      <td>No</td>\n",
       "      <td>No</td>\n",
       "      <td>4.10</td>\n",
       "      <td>2.62</td>\n",
       "      <td>11.04</td>\n",
       "      <td>2.46</td>\n",
       "      <td>Medium</td>\n",
       "      <td>Benign</td>\n",
       "    </tr>\n",
       "    <tr>\n",
       "      <th>4</th>\n",
       "      <td>5</td>\n",
       "      <td>35</td>\n",
       "      <td>Female</td>\n",
       "      <td>Germany</td>\n",
       "      <td>African</td>\n",
       "      <td>Yes</td>\n",
       "      <td>Yes</td>\n",
       "      <td>No</td>\n",
       "      <td>No</td>\n",
       "      <td>No</td>\n",
       "      <td>No</td>\n",
       "      <td>9.10</td>\n",
       "      <td>2.11</td>\n",
       "      <td>10.71</td>\n",
       "      <td>2.11</td>\n",
       "      <td>High</td>\n",
       "      <td>Benign</td>\n",
       "    </tr>\n",
       "    <tr>\n",
       "      <th>5</th>\n",
       "      <td>6</td>\n",
       "      <td>89</td>\n",
       "      <td>Male</td>\n",
       "      <td>UK</td>\n",
       "      <td>African</td>\n",
       "      <td>No</td>\n",
       "      <td>No</td>\n",
       "      <td>No</td>\n",
       "      <td>Yes</td>\n",
       "      <td>Yes</td>\n",
       "      <td>No</td>\n",
       "      <td>4.00</td>\n",
       "      <td>0.98</td>\n",
       "      <td>5.52</td>\n",
       "      <td>0.02</td>\n",
       "      <td>Medium</td>\n",
       "      <td>Benign</td>\n",
       "    </tr>\n",
       "    <tr>\n",
       "      <th>6</th>\n",
       "      <td>7</td>\n",
       "      <td>89</td>\n",
       "      <td>Female</td>\n",
       "      <td>South Korea</td>\n",
       "      <td>Asian</td>\n",
       "      <td>Yes</td>\n",
       "      <td>Yes</td>\n",
       "      <td>No</td>\n",
       "      <td>No</td>\n",
       "      <td>Yes</td>\n",
       "      <td>No</td>\n",
       "      <td>4.70</td>\n",
       "      <td>0.62</td>\n",
       "      <td>11.73</td>\n",
       "      <td>0.01</td>\n",
       "      <td>High</td>\n",
       "      <td>Malignant</td>\n",
       "    </tr>\n",
       "    <tr>\n",
       "      <th>7</th>\n",
       "      <td>8</td>\n",
       "      <td>38</td>\n",
       "      <td>Female</td>\n",
       "      <td>India</td>\n",
       "      <td>African</td>\n",
       "      <td>No</td>\n",
       "      <td>No</td>\n",
       "      <td>No</td>\n",
       "      <td>No</td>\n",
       "      <td>No</td>\n",
       "      <td>No</td>\n",
       "      <td>5.54</td>\n",
       "      <td>3.49</td>\n",
       "      <td>9.47</td>\n",
       "      <td>4.30</td>\n",
       "      <td>Medium</td>\n",
       "      <td>Benign</td>\n",
       "    </tr>\n",
       "    <tr>\n",
       "      <th>8</th>\n",
       "      <td>9</td>\n",
       "      <td>17</td>\n",
       "      <td>Female</td>\n",
       "      <td>Russia</td>\n",
       "      <td>African</td>\n",
       "      <td>No</td>\n",
       "      <td>Yes</td>\n",
       "      <td>No</td>\n",
       "      <td>No</td>\n",
       "      <td>No</td>\n",
       "      <td>Yes</td>\n",
       "      <td>2.30</td>\n",
       "      <td>2.60</td>\n",
       "      <td>11.89</td>\n",
       "      <td>0.81</td>\n",
       "      <td>High</td>\n",
       "      <td>Malignant</td>\n",
       "    </tr>\n",
       "    <tr>\n",
       "      <th>9</th>\n",
       "      <td>10</td>\n",
       "      <td>36</td>\n",
       "      <td>Male</td>\n",
       "      <td>Germany</td>\n",
       "      <td>Asian</td>\n",
       "      <td>No</td>\n",
       "      <td>No</td>\n",
       "      <td>No</td>\n",
       "      <td>No</td>\n",
       "      <td>Yes</td>\n",
       "      <td>No</td>\n",
       "      <td>1.34</td>\n",
       "      <td>0.56</td>\n",
       "      <td>4.51</td>\n",
       "      <td>1.44</td>\n",
       "      <td>Low</td>\n",
       "      <td>Benign</td>\n",
       "    </tr>\n",
       "  </tbody>\n",
       "</table>\n",
       "</div>"
      ],
      "text/plain": [
       "   Patient_ID  Age  Gender      Country  Ethnicity Family_History  \\\n",
       "0           1   66    Male       Russia  Caucasian             No   \n",
       "1           2   29    Male      Germany   Hispanic             No   \n",
       "2           3   86    Male      Nigeria  Caucasian             No   \n",
       "3           4   75  Female        India      Asian             No   \n",
       "4           5   35  Female      Germany    African            Yes   \n",
       "5           6   89    Male           UK    African             No   \n",
       "6           7   89  Female  South Korea      Asian            Yes   \n",
       "7           8   38  Female        India    African             No   \n",
       "8           9   17  Female       Russia    African             No   \n",
       "9          10   36    Male      Germany      Asian             No   \n",
       "\n",
       "  Radiation_Exposure Iodine_Deficiency Smoking Obesity Diabetes  TSH_Level  \\\n",
       "0                Yes                No      No      No       No       9.37   \n",
       "1                Yes                No      No      No       No       1.83   \n",
       "2                 No                No      No      No       No       6.26   \n",
       "3                 No                No      No      No       No       4.10   \n",
       "4                Yes                No      No      No       No       9.10   \n",
       "5                 No                No     Yes     Yes       No       4.00   \n",
       "6                Yes                No      No     Yes       No       4.70   \n",
       "7                 No                No      No      No       No       5.54   \n",
       "8                Yes                No      No      No      Yes       2.30   \n",
       "9                 No                No      No     Yes       No       1.34   \n",
       "\n",
       "   T3_Level  T4_Level  Nodule_Size Thyroid_Cancer_Risk  Diagnosis  \n",
       "0      1.67      6.16         1.08                 Low     Benign  \n",
       "1      1.73     10.54         4.05                 Low     Benign  \n",
       "2      2.59     10.57         4.61                 Low     Benign  \n",
       "3      2.62     11.04         2.46              Medium     Benign  \n",
       "4      2.11     10.71         2.11                High     Benign  \n",
       "5      0.98      5.52         0.02              Medium     Benign  \n",
       "6      0.62     11.73         0.01                High  Malignant  \n",
       "7      3.49      9.47         4.30              Medium     Benign  \n",
       "8      2.60     11.89         0.81                High  Malignant  \n",
       "9      0.56      4.51         1.44                 Low     Benign  "
      ]
     },
     "execution_count": 89,
     "metadata": {},
     "output_type": "execute_result"
    }
   ],
   "source": [
    "tyroiddata.head(10)"
   ]
  },
  {
   "cell_type": "code",
   "execution_count": 90,
   "metadata": {},
   "outputs": [],
   "source": [
    "tyroid_data=tyroiddata.drop(\"Patient_ID\",axis=1)"
   ]
  },
  {
   "cell_type": "code",
   "execution_count": 91,
   "metadata": {},
   "outputs": [
    {
     "data": {
      "text/plain": [
       "(12761, 16)"
      ]
     },
     "execution_count": 91,
     "metadata": {},
     "output_type": "execute_result"
    }
   ],
   "source": [
    "np.shape(tyroid_data)"
   ]
  },
  {
   "cell_type": "code",
   "execution_count": 92,
   "metadata": {},
   "outputs": [
    {
     "data": {
      "text/html": [
       "<div>\n",
       "<style scoped>\n",
       "    .dataframe tbody tr th:only-of-type {\n",
       "        vertical-align: middle;\n",
       "    }\n",
       "\n",
       "    .dataframe tbody tr th {\n",
       "        vertical-align: top;\n",
       "    }\n",
       "\n",
       "    .dataframe thead th {\n",
       "        text-align: right;\n",
       "    }\n",
       "</style>\n",
       "<table border=\"1\" class=\"dataframe\">\n",
       "  <thead>\n",
       "    <tr style=\"text-align: right;\">\n",
       "      <th></th>\n",
       "      <th>Age</th>\n",
       "      <th>Gender</th>\n",
       "      <th>Country</th>\n",
       "      <th>Ethnicity</th>\n",
       "      <th>Family_History</th>\n",
       "      <th>Radiation_Exposure</th>\n",
       "      <th>Iodine_Deficiency</th>\n",
       "      <th>Smoking</th>\n",
       "      <th>Obesity</th>\n",
       "      <th>Diabetes</th>\n",
       "      <th>TSH_Level</th>\n",
       "      <th>T3_Level</th>\n",
       "      <th>T4_Level</th>\n",
       "      <th>Nodule_Size</th>\n",
       "      <th>Thyroid_Cancer_Risk</th>\n",
       "      <th>Diagnosis</th>\n",
       "    </tr>\n",
       "  </thead>\n",
       "  <tbody>\n",
       "    <tr>\n",
       "      <th>0</th>\n",
       "      <td>66</td>\n",
       "      <td>Male</td>\n",
       "      <td>Russia</td>\n",
       "      <td>Caucasian</td>\n",
       "      <td>No</td>\n",
       "      <td>Yes</td>\n",
       "      <td>No</td>\n",
       "      <td>No</td>\n",
       "      <td>No</td>\n",
       "      <td>No</td>\n",
       "      <td>9.37</td>\n",
       "      <td>1.67</td>\n",
       "      <td>6.16</td>\n",
       "      <td>1.08</td>\n",
       "      <td>Low</td>\n",
       "      <td>Benign</td>\n",
       "    </tr>\n",
       "    <tr>\n",
       "      <th>1</th>\n",
       "      <td>29</td>\n",
       "      <td>Male</td>\n",
       "      <td>Germany</td>\n",
       "      <td>Hispanic</td>\n",
       "      <td>No</td>\n",
       "      <td>Yes</td>\n",
       "      <td>No</td>\n",
       "      <td>No</td>\n",
       "      <td>No</td>\n",
       "      <td>No</td>\n",
       "      <td>1.83</td>\n",
       "      <td>1.73</td>\n",
       "      <td>10.54</td>\n",
       "      <td>4.05</td>\n",
       "      <td>Low</td>\n",
       "      <td>Benign</td>\n",
       "    </tr>\n",
       "    <tr>\n",
       "      <th>2</th>\n",
       "      <td>86</td>\n",
       "      <td>Male</td>\n",
       "      <td>Nigeria</td>\n",
       "      <td>Caucasian</td>\n",
       "      <td>No</td>\n",
       "      <td>No</td>\n",
       "      <td>No</td>\n",
       "      <td>No</td>\n",
       "      <td>No</td>\n",
       "      <td>No</td>\n",
       "      <td>6.26</td>\n",
       "      <td>2.59</td>\n",
       "      <td>10.57</td>\n",
       "      <td>4.61</td>\n",
       "      <td>Low</td>\n",
       "      <td>Benign</td>\n",
       "    </tr>\n",
       "    <tr>\n",
       "      <th>3</th>\n",
       "      <td>75</td>\n",
       "      <td>Female</td>\n",
       "      <td>India</td>\n",
       "      <td>Asian</td>\n",
       "      <td>No</td>\n",
       "      <td>No</td>\n",
       "      <td>No</td>\n",
       "      <td>No</td>\n",
       "      <td>No</td>\n",
       "      <td>No</td>\n",
       "      <td>4.10</td>\n",
       "      <td>2.62</td>\n",
       "      <td>11.04</td>\n",
       "      <td>2.46</td>\n",
       "      <td>Medium</td>\n",
       "      <td>Benign</td>\n",
       "    </tr>\n",
       "    <tr>\n",
       "      <th>4</th>\n",
       "      <td>35</td>\n",
       "      <td>Female</td>\n",
       "      <td>Germany</td>\n",
       "      <td>African</td>\n",
       "      <td>Yes</td>\n",
       "      <td>Yes</td>\n",
       "      <td>No</td>\n",
       "      <td>No</td>\n",
       "      <td>No</td>\n",
       "      <td>No</td>\n",
       "      <td>9.10</td>\n",
       "      <td>2.11</td>\n",
       "      <td>10.71</td>\n",
       "      <td>2.11</td>\n",
       "      <td>High</td>\n",
       "      <td>Benign</td>\n",
       "    </tr>\n",
       "  </tbody>\n",
       "</table>\n",
       "</div>"
      ],
      "text/plain": [
       "   Age  Gender  Country  Ethnicity Family_History Radiation_Exposure  \\\n",
       "0   66    Male   Russia  Caucasian             No                Yes   \n",
       "1   29    Male  Germany   Hispanic             No                Yes   \n",
       "2   86    Male  Nigeria  Caucasian             No                 No   \n",
       "3   75  Female    India      Asian             No                 No   \n",
       "4   35  Female  Germany    African            Yes                Yes   \n",
       "\n",
       "  Iodine_Deficiency Smoking Obesity Diabetes  TSH_Level  T3_Level  T4_Level  \\\n",
       "0                No      No      No       No       9.37      1.67      6.16   \n",
       "1                No      No      No       No       1.83      1.73     10.54   \n",
       "2                No      No      No       No       6.26      2.59     10.57   \n",
       "3                No      No      No       No       4.10      2.62     11.04   \n",
       "4                No      No      No       No       9.10      2.11     10.71   \n",
       "\n",
       "   Nodule_Size Thyroid_Cancer_Risk Diagnosis  \n",
       "0         1.08                 Low    Benign  \n",
       "1         4.05                 Low    Benign  \n",
       "2         4.61                 Low    Benign  \n",
       "3         2.46              Medium    Benign  \n",
       "4         2.11                High    Benign  "
      ]
     },
     "execution_count": 92,
     "metadata": {},
     "output_type": "execute_result"
    }
   ],
   "source": [
    "tyroid_data.head(5)"
   ]
  },
  {
   "cell_type": "code",
   "execution_count": 93,
   "metadata": {},
   "outputs": [
    {
     "data": {
      "text/html": [
       "<div>\n",
       "<style scoped>\n",
       "    .dataframe tbody tr th:only-of-type {\n",
       "        vertical-align: middle;\n",
       "    }\n",
       "\n",
       "    .dataframe tbody tr th {\n",
       "        vertical-align: top;\n",
       "    }\n",
       "\n",
       "    .dataframe thead th {\n",
       "        text-align: right;\n",
       "    }\n",
       "</style>\n",
       "<table border=\"1\" class=\"dataframe\">\n",
       "  <thead>\n",
       "    <tr style=\"text-align: right;\">\n",
       "      <th></th>\n",
       "      <th>Age</th>\n",
       "      <th>Gender</th>\n",
       "      <th>Country</th>\n",
       "      <th>Ethnicity</th>\n",
       "      <th>Family_History</th>\n",
       "      <th>Radiation_Exposure</th>\n",
       "      <th>Iodine_Deficiency</th>\n",
       "      <th>Smoking</th>\n",
       "      <th>Obesity</th>\n",
       "      <th>Diabetes</th>\n",
       "      <th>TSH_Level</th>\n",
       "      <th>T3_Level</th>\n",
       "      <th>T4_Level</th>\n",
       "      <th>Nodule_Size</th>\n",
       "      <th>Thyroid_Cancer_Risk</th>\n",
       "      <th>Diagnosis</th>\n",
       "    </tr>\n",
       "  </thead>\n",
       "  <tbody>\n",
       "    <tr>\n",
       "      <th>12661</th>\n",
       "      <td>26</td>\n",
       "      <td>Female</td>\n",
       "      <td>India</td>\n",
       "      <td>Asian</td>\n",
       "      <td>Yes</td>\n",
       "      <td>Yes</td>\n",
       "      <td>No</td>\n",
       "      <td>No</td>\n",
       "      <td>Yes</td>\n",
       "      <td>No</td>\n",
       "      <td>9.03</td>\n",
       "      <td>2.18</td>\n",
       "      <td>10.99</td>\n",
       "      <td>1.29</td>\n",
       "      <td>High</td>\n",
       "      <td>Malignant</td>\n",
       "    </tr>\n",
       "    <tr>\n",
       "      <th>12662</th>\n",
       "      <td>52</td>\n",
       "      <td>Male</td>\n",
       "      <td>Nigeria</td>\n",
       "      <td>Middle Eastern</td>\n",
       "      <td>No</td>\n",
       "      <td>No</td>\n",
       "      <td>No</td>\n",
       "      <td>No</td>\n",
       "      <td>No</td>\n",
       "      <td>No</td>\n",
       "      <td>3.98</td>\n",
       "      <td>1.01</td>\n",
       "      <td>5.16</td>\n",
       "      <td>2.32</td>\n",
       "      <td>Medium</td>\n",
       "      <td>Benign</td>\n",
       "    </tr>\n",
       "    <tr>\n",
       "      <th>12663</th>\n",
       "      <td>81</td>\n",
       "      <td>Female</td>\n",
       "      <td>Brazil</td>\n",
       "      <td>Caucasian</td>\n",
       "      <td>No</td>\n",
       "      <td>No</td>\n",
       "      <td>No</td>\n",
       "      <td>No</td>\n",
       "      <td>No</td>\n",
       "      <td>No</td>\n",
       "      <td>0.29</td>\n",
       "      <td>2.83</td>\n",
       "      <td>6.50</td>\n",
       "      <td>2.22</td>\n",
       "      <td>Low</td>\n",
       "      <td>Benign</td>\n",
       "    </tr>\n",
       "    <tr>\n",
       "      <th>12664</th>\n",
       "      <td>80</td>\n",
       "      <td>Male</td>\n",
       "      <td>China</td>\n",
       "      <td>Caucasian</td>\n",
       "      <td>No</td>\n",
       "      <td>Yes</td>\n",
       "      <td>No</td>\n",
       "      <td>Yes</td>\n",
       "      <td>No</td>\n",
       "      <td>No</td>\n",
       "      <td>6.31</td>\n",
       "      <td>0.56</td>\n",
       "      <td>5.94</td>\n",
       "      <td>2.99</td>\n",
       "      <td>Low</td>\n",
       "      <td>Benign</td>\n",
       "    </tr>\n",
       "    <tr>\n",
       "      <th>12665</th>\n",
       "      <td>66</td>\n",
       "      <td>Male</td>\n",
       "      <td>Japan</td>\n",
       "      <td>Asian</td>\n",
       "      <td>Yes</td>\n",
       "      <td>No</td>\n",
       "      <td>No</td>\n",
       "      <td>No</td>\n",
       "      <td>No</td>\n",
       "      <td>No</td>\n",
       "      <td>2.43</td>\n",
       "      <td>2.67</td>\n",
       "      <td>8.22</td>\n",
       "      <td>3.52</td>\n",
       "      <td>High</td>\n",
       "      <td>Malignant</td>\n",
       "    </tr>\n",
       "    <tr>\n",
       "      <th>...</th>\n",
       "      <td>...</td>\n",
       "      <td>...</td>\n",
       "      <td>...</td>\n",
       "      <td>...</td>\n",
       "      <td>...</td>\n",
       "      <td>...</td>\n",
       "      <td>...</td>\n",
       "      <td>...</td>\n",
       "      <td>...</td>\n",
       "      <td>...</td>\n",
       "      <td>...</td>\n",
       "      <td>...</td>\n",
       "      <td>...</td>\n",
       "      <td>...</td>\n",
       "      <td>...</td>\n",
       "      <td>...</td>\n",
       "    </tr>\n",
       "    <tr>\n",
       "      <th>12756</th>\n",
       "      <td>52</td>\n",
       "      <td>Female</td>\n",
       "      <td>Nigeria</td>\n",
       "      <td>Hispanic</td>\n",
       "      <td>No</td>\n",
       "      <td>Yes</td>\n",
       "      <td>No</td>\n",
       "      <td>No</td>\n",
       "      <td>No</td>\n",
       "      <td>Yes</td>\n",
       "      <td>5.23</td>\n",
       "      <td>2.40</td>\n",
       "      <td>11.51</td>\n",
       "      <td>0.22</td>\n",
       "      <td>Medium</td>\n",
       "      <td>Benign</td>\n",
       "    </tr>\n",
       "    <tr>\n",
       "      <th>12757</th>\n",
       "      <td>34</td>\n",
       "      <td>Male</td>\n",
       "      <td>Nigeria</td>\n",
       "      <td>African</td>\n",
       "      <td>Yes</td>\n",
       "      <td>No</td>\n",
       "      <td>No</td>\n",
       "      <td>Yes</td>\n",
       "      <td>No</td>\n",
       "      <td>No</td>\n",
       "      <td>2.88</td>\n",
       "      <td>0.85</td>\n",
       "      <td>8.14</td>\n",
       "      <td>0.70</td>\n",
       "      <td>Low</td>\n",
       "      <td>Benign</td>\n",
       "    </tr>\n",
       "    <tr>\n",
       "      <th>12758</th>\n",
       "      <td>58</td>\n",
       "      <td>Female</td>\n",
       "      <td>Nigeria</td>\n",
       "      <td>African</td>\n",
       "      <td>No</td>\n",
       "      <td>No</td>\n",
       "      <td>Yes</td>\n",
       "      <td>Yes</td>\n",
       "      <td>No</td>\n",
       "      <td>Yes</td>\n",
       "      <td>8.03</td>\n",
       "      <td>1.49</td>\n",
       "      <td>8.17</td>\n",
       "      <td>1.65</td>\n",
       "      <td>Low</td>\n",
       "      <td>Benign</td>\n",
       "    </tr>\n",
       "    <tr>\n",
       "      <th>12759</th>\n",
       "      <td>65</td>\n",
       "      <td>Female</td>\n",
       "      <td>India</td>\n",
       "      <td>Middle Eastern</td>\n",
       "      <td>No</td>\n",
       "      <td>No</td>\n",
       "      <td>No</td>\n",
       "      <td>Yes</td>\n",
       "      <td>No</td>\n",
       "      <td>No</td>\n",
       "      <td>8.42</td>\n",
       "      <td>0.67</td>\n",
       "      <td>6.56</td>\n",
       "      <td>4.30</td>\n",
       "      <td>Medium</td>\n",
       "      <td>Benign</td>\n",
       "    </tr>\n",
       "    <tr>\n",
       "      <th>12760</th>\n",
       "      <td>33</td>\n",
       "      <td>Female</td>\n",
       "      <td>Russia</td>\n",
       "      <td>Asian</td>\n",
       "      <td>No</td>\n",
       "      <td>No</td>\n",
       "      <td>No</td>\n",
       "      <td>Yes</td>\n",
       "      <td>No</td>\n",
       "      <td>No</td>\n",
       "      <td>2.49</td>\n",
       "      <td>1.02</td>\n",
       "      <td>4.71</td>\n",
       "      <td>4.00</td>\n",
       "      <td>NaN</td>\n",
       "      <td>NaN</td>\n",
       "    </tr>\n",
       "  </tbody>\n",
       "</table>\n",
       "<p>100 rows × 16 columns</p>\n",
       "</div>"
      ],
      "text/plain": [
       "       Age  Gender  Country       Ethnicity Family_History Radiation_Exposure  \\\n",
       "12661   26  Female    India           Asian            Yes                Yes   \n",
       "12662   52    Male  Nigeria  Middle Eastern             No                 No   \n",
       "12663   81  Female   Brazil       Caucasian             No                 No   \n",
       "12664   80    Male    China       Caucasian             No                Yes   \n",
       "12665   66    Male    Japan           Asian            Yes                 No   \n",
       "...    ...     ...      ...             ...            ...                ...   \n",
       "12756   52  Female  Nigeria        Hispanic             No                Yes   \n",
       "12757   34    Male  Nigeria         African            Yes                 No   \n",
       "12758   58  Female  Nigeria         African             No                 No   \n",
       "12759   65  Female    India  Middle Eastern             No                 No   \n",
       "12760   33  Female   Russia           Asian             No                 No   \n",
       "\n",
       "      Iodine_Deficiency Smoking Obesity Diabetes  TSH_Level  T3_Level  \\\n",
       "12661                No      No     Yes       No       9.03      2.18   \n",
       "12662                No      No      No       No       3.98      1.01   \n",
       "12663                No      No      No       No       0.29      2.83   \n",
       "12664                No     Yes      No       No       6.31      0.56   \n",
       "12665                No      No      No       No       2.43      2.67   \n",
       "...                 ...     ...     ...      ...        ...       ...   \n",
       "12756                No      No      No      Yes       5.23      2.40   \n",
       "12757                No     Yes      No       No       2.88      0.85   \n",
       "12758               Yes     Yes      No      Yes       8.03      1.49   \n",
       "12759                No     Yes      No       No       8.42      0.67   \n",
       "12760                No     Yes      No       No       2.49      1.02   \n",
       "\n",
       "       T4_Level  Nodule_Size Thyroid_Cancer_Risk  Diagnosis  \n",
       "12661     10.99         1.29                High  Malignant  \n",
       "12662      5.16         2.32              Medium     Benign  \n",
       "12663      6.50         2.22                 Low     Benign  \n",
       "12664      5.94         2.99                 Low     Benign  \n",
       "12665      8.22         3.52                High  Malignant  \n",
       "...         ...          ...                 ...        ...  \n",
       "12756     11.51         0.22              Medium     Benign  \n",
       "12757      8.14         0.70                 Low     Benign  \n",
       "12758      8.17         1.65                 Low     Benign  \n",
       "12759      6.56         4.30              Medium     Benign  \n",
       "12760      4.71         4.00                 NaN        NaN  \n",
       "\n",
       "[100 rows x 16 columns]"
      ]
     },
     "execution_count": 93,
     "metadata": {},
     "output_type": "execute_result"
    }
   ],
   "source": [
    "tyroid_data.tail(100)"
   ]
  },
  {
   "cell_type": "code",
   "execution_count": 94,
   "metadata": {},
   "outputs": [
    {
     "data": {
      "text/plain": [
       "Age                    0\n",
       "Gender                 0\n",
       "Country                0\n",
       "Ethnicity              0\n",
       "Family_History         0\n",
       "Radiation_Exposure     0\n",
       "Iodine_Deficiency      0\n",
       "Smoking                0\n",
       "Obesity                0\n",
       "Diabetes               0\n",
       "TSH_Level              0\n",
       "T3_Level               0\n",
       "T4_Level               0\n",
       "Nodule_Size            0\n",
       "Thyroid_Cancer_Risk    1\n",
       "Diagnosis              1\n",
       "dtype: int64"
      ]
     },
     "execution_count": 94,
     "metadata": {},
     "output_type": "execute_result"
    }
   ],
   "source": [
    "tyroid_data.isnull().sum()"
   ]
  },
  {
   "cell_type": "code",
   "execution_count": 95,
   "metadata": {},
   "outputs": [
    {
     "data": {
      "text/plain": [
       "(12761, 16)"
      ]
     },
     "execution_count": 95,
     "metadata": {},
     "output_type": "execute_result"
    }
   ],
   "source": [
    "np.shape(tyroid_data)"
   ]
  },
  {
   "cell_type": "code",
   "execution_count": 96,
   "metadata": {},
   "outputs": [],
   "source": [
    "tyroid_data.drop([12760],inplace=True)"
   ]
  },
  {
   "cell_type": "code",
   "execution_count": 97,
   "metadata": {},
   "outputs": [
    {
     "data": {
      "text/plain": [
       "Age                    0\n",
       "Gender                 0\n",
       "Country                0\n",
       "Ethnicity              0\n",
       "Family_History         0\n",
       "Radiation_Exposure     0\n",
       "Iodine_Deficiency      0\n",
       "Smoking                0\n",
       "Obesity                0\n",
       "Diabetes               0\n",
       "TSH_Level              0\n",
       "T3_Level               0\n",
       "T4_Level               0\n",
       "Nodule_Size            0\n",
       "Thyroid_Cancer_Risk    0\n",
       "Diagnosis              0\n",
       "dtype: int64"
      ]
     },
     "execution_count": 97,
     "metadata": {},
     "output_type": "execute_result"
    }
   ],
   "source": [
    "tyroid_data.isnull().sum()"
   ]
  },
  {
   "cell_type": "code",
   "execution_count": 98,
   "metadata": {},
   "outputs": [
    {
     "data": {
      "text/plain": [
       "(12760, 16)"
      ]
     },
     "execution_count": 98,
     "metadata": {},
     "output_type": "execute_result"
    }
   ],
   "source": [
    "np.shape(tyroid_data)"
   ]
  },
  {
   "cell_type": "code",
   "execution_count": 99,
   "metadata": {},
   "outputs": [],
   "source": [
    "tyroid_data=tyroid_data.replace(to_replace=[\"Yes\",\"No\"],value=[1,0]) \n",
    "\n",
    "#tyroid_data.loc[:,\"Family_History\"]=tyroid_data[\"Family_History\"].map({'Yes':1,'No':0})"
   ]
  },
  {
   "cell_type": "code",
   "execution_count": 100,
   "metadata": {},
   "outputs": [
    {
     "name": "stdout",
     "output_type": "stream",
     "text": [
      "['Male' 'Female']\n"
     ]
    }
   ],
   "source": [
    "print(tyroid_data['Gender'].unique())"
   ]
  },
  {
   "cell_type": "code",
   "execution_count": 101,
   "metadata": {},
   "outputs": [],
   "source": [
    "tyroid_data=tyroid_data.replace(to_replace=[\"Male\",\"Female\"],value=[1,0])"
   ]
  },
  {
   "cell_type": "code",
   "execution_count": 102,
   "metadata": {},
   "outputs": [
    {
     "name": "stdout",
     "output_type": "stream",
     "text": [
      "[1 0]\n"
     ]
    }
   ],
   "source": [
    "print(tyroid_data['Gender'].unique())"
   ]
  },
  {
   "cell_type": "code",
   "execution_count": 103,
   "metadata": {},
   "outputs": [
    {
     "data": {
      "text/plain": [
       "array(['Brazil', 'China', 'Germany', 'India', 'Japan', 'Nigeria',\n",
       "       'Russia', 'South Korea', 'UK', 'USA'], dtype=object)"
      ]
     },
     "execution_count": 103,
     "metadata": {},
     "output_type": "execute_result"
    }
   ],
   "source": [
    "np.unique(tyroid_data[\"Country\"])"
   ]
  },
  {
   "cell_type": "code",
   "execution_count": 104,
   "metadata": {},
   "outputs": [],
   "source": [
    "tyroid_data=tyroid_data.replace(['Brazil', 'China', 'Germany', 'India', 'Japan', 'Nigeria',\n",
    "       'Russia', 'South Korea', 'UK', 'USA'],value=[1,2,3,4,5,6,7,8,9,10])"
   ]
  },
  {
   "cell_type": "code",
   "execution_count": 105,
   "metadata": {},
   "outputs": [
    {
     "data": {
      "text/plain": [
       "array(['High', 'Low', 'Medium'], dtype=object)"
      ]
     },
     "execution_count": 105,
     "metadata": {},
     "output_type": "execute_result"
    }
   ],
   "source": [
    "np.unique(tyroid_data[\"Thyroid_Cancer_Risk\"])"
   ]
  },
  {
   "cell_type": "code",
   "execution_count": 106,
   "metadata": {},
   "outputs": [],
   "source": [
    "tyroid_data=tyroid_data.replace(['High', 'Low', 'Medium'],value=[1,2,3])"
   ]
  },
  {
   "cell_type": "code",
   "execution_count": 107,
   "metadata": {},
   "outputs": [
    {
     "data": {
      "text/plain": [
       "array(['African', 'Asian', 'Caucasian', 'Hispanic', 'Middle Eastern'],\n",
       "      dtype=object)"
      ]
     },
     "execution_count": 107,
     "metadata": {},
     "output_type": "execute_result"
    }
   ],
   "source": [
    "np.unique(tyroid_data[\"Ethnicity\"])"
   ]
  },
  {
   "cell_type": "code",
   "execution_count": 108,
   "metadata": {},
   "outputs": [],
   "source": [
    "tyroid_data=tyroid_data.replace(['African', 'Asian', 'Caucasian', 'Hispanic', 'Middle Eastern'],value=[1,2,3,4,5])"
   ]
  },
  {
   "cell_type": "code",
   "execution_count": 109,
   "metadata": {},
   "outputs": [
    {
     "name": "stdout",
     "output_type": "stream",
     "text": [
      "Age                      int64\n",
      "Gender                   int64\n",
      "Country                  int64\n",
      "Ethnicity                int64\n",
      "Family_History           int64\n",
      "Radiation_Exposure       int64\n",
      "Iodine_Deficiency        int64\n",
      "Smoking                  int64\n",
      "Obesity                  int64\n",
      "Diabetes                 int64\n",
      "TSH_Level              float64\n",
      "T3_Level               float64\n",
      "T4_Level               float64\n",
      "Nodule_Size            float64\n",
      "Thyroid_Cancer_Risk      int64\n",
      "Diagnosis               object\n",
      "dtype: object\n"
     ]
    }
   ],
   "source": [
    "print(tyroid_data.dtypes)"
   ]
  },
  {
   "cell_type": "code",
   "execution_count": 110,
   "metadata": {},
   "outputs": [
    {
     "data": {
      "text/plain": [
       "array(['Benign', 'Malignant'], dtype=object)"
      ]
     },
     "execution_count": 110,
     "metadata": {},
     "output_type": "execute_result"
    }
   ],
   "source": [
    "np.unique(tyroid_data[\"Diagnosis\"])"
   ]
  },
  {
   "cell_type": "code",
   "execution_count": 111,
   "metadata": {},
   "outputs": [],
   "source": [
    "tyroid_data=tyroid_data.replace(['Benign', 'Malignant'],value=[1,2])"
   ]
  },
  {
   "cell_type": "code",
   "execution_count": 112,
   "metadata": {},
   "outputs": [
    {
     "data": {
      "text/html": [
       "<div>\n",
       "<style scoped>\n",
       "    .dataframe tbody tr th:only-of-type {\n",
       "        vertical-align: middle;\n",
       "    }\n",
       "\n",
       "    .dataframe tbody tr th {\n",
       "        vertical-align: top;\n",
       "    }\n",
       "\n",
       "    .dataframe thead th {\n",
       "        text-align: right;\n",
       "    }\n",
       "</style>\n",
       "<table border=\"1\" class=\"dataframe\">\n",
       "  <thead>\n",
       "    <tr style=\"text-align: right;\">\n",
       "      <th></th>\n",
       "      <th>Age</th>\n",
       "      <th>Gender</th>\n",
       "      <th>Country</th>\n",
       "      <th>Ethnicity</th>\n",
       "      <th>Family_History</th>\n",
       "      <th>Radiation_Exposure</th>\n",
       "      <th>Iodine_Deficiency</th>\n",
       "      <th>Smoking</th>\n",
       "      <th>Obesity</th>\n",
       "      <th>Diabetes</th>\n",
       "      <th>TSH_Level</th>\n",
       "      <th>T3_Level</th>\n",
       "      <th>T4_Level</th>\n",
       "      <th>Nodule_Size</th>\n",
       "      <th>Thyroid_Cancer_Risk</th>\n",
       "      <th>Diagnosis</th>\n",
       "    </tr>\n",
       "  </thead>\n",
       "  <tbody>\n",
       "    <tr>\n",
       "      <th>0</th>\n",
       "      <td>66</td>\n",
       "      <td>1</td>\n",
       "      <td>7</td>\n",
       "      <td>3</td>\n",
       "      <td>0</td>\n",
       "      <td>1</td>\n",
       "      <td>0</td>\n",
       "      <td>0</td>\n",
       "      <td>0</td>\n",
       "      <td>0</td>\n",
       "      <td>9.37</td>\n",
       "      <td>1.67</td>\n",
       "      <td>6.16</td>\n",
       "      <td>1.08</td>\n",
       "      <td>2</td>\n",
       "      <td>1</td>\n",
       "    </tr>\n",
       "    <tr>\n",
       "      <th>1</th>\n",
       "      <td>29</td>\n",
       "      <td>1</td>\n",
       "      <td>3</td>\n",
       "      <td>4</td>\n",
       "      <td>0</td>\n",
       "      <td>1</td>\n",
       "      <td>0</td>\n",
       "      <td>0</td>\n",
       "      <td>0</td>\n",
       "      <td>0</td>\n",
       "      <td>1.83</td>\n",
       "      <td>1.73</td>\n",
       "      <td>10.54</td>\n",
       "      <td>4.05</td>\n",
       "      <td>2</td>\n",
       "      <td>1</td>\n",
       "    </tr>\n",
       "    <tr>\n",
       "      <th>2</th>\n",
       "      <td>86</td>\n",
       "      <td>1</td>\n",
       "      <td>6</td>\n",
       "      <td>3</td>\n",
       "      <td>0</td>\n",
       "      <td>0</td>\n",
       "      <td>0</td>\n",
       "      <td>0</td>\n",
       "      <td>0</td>\n",
       "      <td>0</td>\n",
       "      <td>6.26</td>\n",
       "      <td>2.59</td>\n",
       "      <td>10.57</td>\n",
       "      <td>4.61</td>\n",
       "      <td>2</td>\n",
       "      <td>1</td>\n",
       "    </tr>\n",
       "    <tr>\n",
       "      <th>3</th>\n",
       "      <td>75</td>\n",
       "      <td>0</td>\n",
       "      <td>4</td>\n",
       "      <td>2</td>\n",
       "      <td>0</td>\n",
       "      <td>0</td>\n",
       "      <td>0</td>\n",
       "      <td>0</td>\n",
       "      <td>0</td>\n",
       "      <td>0</td>\n",
       "      <td>4.10</td>\n",
       "      <td>2.62</td>\n",
       "      <td>11.04</td>\n",
       "      <td>2.46</td>\n",
       "      <td>3</td>\n",
       "      <td>1</td>\n",
       "    </tr>\n",
       "    <tr>\n",
       "      <th>4</th>\n",
       "      <td>35</td>\n",
       "      <td>0</td>\n",
       "      <td>3</td>\n",
       "      <td>1</td>\n",
       "      <td>1</td>\n",
       "      <td>1</td>\n",
       "      <td>0</td>\n",
       "      <td>0</td>\n",
       "      <td>0</td>\n",
       "      <td>0</td>\n",
       "      <td>9.10</td>\n",
       "      <td>2.11</td>\n",
       "      <td>10.71</td>\n",
       "      <td>2.11</td>\n",
       "      <td>1</td>\n",
       "      <td>1</td>\n",
       "    </tr>\n",
       "    <tr>\n",
       "      <th>5</th>\n",
       "      <td>89</td>\n",
       "      <td>1</td>\n",
       "      <td>9</td>\n",
       "      <td>1</td>\n",
       "      <td>0</td>\n",
       "      <td>0</td>\n",
       "      <td>0</td>\n",
       "      <td>1</td>\n",
       "      <td>1</td>\n",
       "      <td>0</td>\n",
       "      <td>4.00</td>\n",
       "      <td>0.98</td>\n",
       "      <td>5.52</td>\n",
       "      <td>0.02</td>\n",
       "      <td>3</td>\n",
       "      <td>1</td>\n",
       "    </tr>\n",
       "    <tr>\n",
       "      <th>6</th>\n",
       "      <td>89</td>\n",
       "      <td>0</td>\n",
       "      <td>8</td>\n",
       "      <td>2</td>\n",
       "      <td>1</td>\n",
       "      <td>1</td>\n",
       "      <td>0</td>\n",
       "      <td>0</td>\n",
       "      <td>1</td>\n",
       "      <td>0</td>\n",
       "      <td>4.70</td>\n",
       "      <td>0.62</td>\n",
       "      <td>11.73</td>\n",
       "      <td>0.01</td>\n",
       "      <td>1</td>\n",
       "      <td>2</td>\n",
       "    </tr>\n",
       "    <tr>\n",
       "      <th>7</th>\n",
       "      <td>38</td>\n",
       "      <td>0</td>\n",
       "      <td>4</td>\n",
       "      <td>1</td>\n",
       "      <td>0</td>\n",
       "      <td>0</td>\n",
       "      <td>0</td>\n",
       "      <td>0</td>\n",
       "      <td>0</td>\n",
       "      <td>0</td>\n",
       "      <td>5.54</td>\n",
       "      <td>3.49</td>\n",
       "      <td>9.47</td>\n",
       "      <td>4.30</td>\n",
       "      <td>3</td>\n",
       "      <td>1</td>\n",
       "    </tr>\n",
       "    <tr>\n",
       "      <th>8</th>\n",
       "      <td>17</td>\n",
       "      <td>0</td>\n",
       "      <td>7</td>\n",
       "      <td>1</td>\n",
       "      <td>0</td>\n",
       "      <td>1</td>\n",
       "      <td>0</td>\n",
       "      <td>0</td>\n",
       "      <td>0</td>\n",
       "      <td>1</td>\n",
       "      <td>2.30</td>\n",
       "      <td>2.60</td>\n",
       "      <td>11.89</td>\n",
       "      <td>0.81</td>\n",
       "      <td>1</td>\n",
       "      <td>2</td>\n",
       "    </tr>\n",
       "  </tbody>\n",
       "</table>\n",
       "</div>"
      ],
      "text/plain": [
       "   Age  Gender  Country  Ethnicity  Family_History  Radiation_Exposure  \\\n",
       "0   66       1        7          3               0                   1   \n",
       "1   29       1        3          4               0                   1   \n",
       "2   86       1        6          3               0                   0   \n",
       "3   75       0        4          2               0                   0   \n",
       "4   35       0        3          1               1                   1   \n",
       "5   89       1        9          1               0                   0   \n",
       "6   89       0        8          2               1                   1   \n",
       "7   38       0        4          1               0                   0   \n",
       "8   17       0        7          1               0                   1   \n",
       "\n",
       "   Iodine_Deficiency  Smoking  Obesity  Diabetes  TSH_Level  T3_Level  \\\n",
       "0                  0        0        0         0       9.37      1.67   \n",
       "1                  0        0        0         0       1.83      1.73   \n",
       "2                  0        0        0         0       6.26      2.59   \n",
       "3                  0        0        0         0       4.10      2.62   \n",
       "4                  0        0        0         0       9.10      2.11   \n",
       "5                  0        1        1         0       4.00      0.98   \n",
       "6                  0        0        1         0       4.70      0.62   \n",
       "7                  0        0        0         0       5.54      3.49   \n",
       "8                  0        0        0         1       2.30      2.60   \n",
       "\n",
       "   T4_Level  Nodule_Size  Thyroid_Cancer_Risk  Diagnosis  \n",
       "0      6.16         1.08                    2          1  \n",
       "1     10.54         4.05                    2          1  \n",
       "2     10.57         4.61                    2          1  \n",
       "3     11.04         2.46                    3          1  \n",
       "4     10.71         2.11                    1          1  \n",
       "5      5.52         0.02                    3          1  \n",
       "6     11.73         0.01                    1          2  \n",
       "7      9.47         4.30                    3          1  \n",
       "8     11.89         0.81                    1          2  "
      ]
     },
     "execution_count": 112,
     "metadata": {},
     "output_type": "execute_result"
    }
   ],
   "source": [
    "tyroid_data.head(9)"
   ]
  },
  {
   "cell_type": "code",
   "execution_count": 113,
   "metadata": {},
   "outputs": [
    {
     "data": {
      "text/plain": [
       "2    6550\n",
       "3    4289\n",
       "1    1921\n",
       "Name: Thyroid_Cancer_Risk, dtype: int64"
      ]
     },
     "execution_count": 113,
     "metadata": {},
     "output_type": "execute_result"
    }
   ],
   "source": [
    "tyroid_data[\"Thyroid_Cancer_Risk\"].value_counts()"
   ]
  },
  {
   "cell_type": "code",
   "execution_count": 114,
   "metadata": {},
   "outputs": [
    {
     "data": {
      "text/html": [
       "<div>\n",
       "<style scoped>\n",
       "    .dataframe tbody tr th:only-of-type {\n",
       "        vertical-align: middle;\n",
       "    }\n",
       "\n",
       "    .dataframe tbody tr th {\n",
       "        vertical-align: top;\n",
       "    }\n",
       "\n",
       "    .dataframe thead th {\n",
       "        text-align: right;\n",
       "    }\n",
       "</style>\n",
       "<table border=\"1\" class=\"dataframe\">\n",
       "  <thead>\n",
       "    <tr style=\"text-align: right;\">\n",
       "      <th></th>\n",
       "      <th>grup names</th>\n",
       "      <th>risks</th>\n",
       "    </tr>\n",
       "  </thead>\n",
       "  <tbody>\n",
       "    <tr>\n",
       "      <th>0</th>\n",
       "      <td>medium</td>\n",
       "      <td>6550</td>\n",
       "    </tr>\n",
       "    <tr>\n",
       "      <th>1</th>\n",
       "      <td>high</td>\n",
       "      <td>4289</td>\n",
       "    </tr>\n",
       "    <tr>\n",
       "      <th>2</th>\n",
       "      <td>low</td>\n",
       "      <td>1921</td>\n",
       "    </tr>\n",
       "  </tbody>\n",
       "</table>\n",
       "</div>"
      ],
      "text/plain": [
       "  grup names  risks\n",
       "0     medium   6550\n",
       "1       high   4289\n",
       "2        low   1921"
      ]
     },
     "execution_count": 114,
     "metadata": {},
     "output_type": "execute_result"
    }
   ],
   "source": [
    "risks=tyroid_data[\"Thyroid_Cancer_Risk\"].value_counts()\n",
    "grup_names = ['low', 'medium', 'high']\n",
    "risk_group_count=pd.DataFrame({\"grup names\":[grup_names[i-1] for i in risks.index],\"risks\":risks.values})\n",
    "risk_group_count"
   ]
  },
  {
   "cell_type": "markdown",
   "metadata": {},
   "source": [
    "<br><b>Sınıf dağılımlarına bakarak dengeli dağılıp dağılmadığını gözlemleyelim:<br>\n"
   ]
  },
  {
   "cell_type": "code",
   "execution_count": 115,
   "metadata": {},
   "outputs": [
    {
     "data": {
      "text/plain": [
       "1    9770\n",
       "2    2990\n",
       "Name: Diagnosis, dtype: int64"
      ]
     },
     "execution_count": 115,
     "metadata": {},
     "output_type": "execute_result"
    }
   ],
   "source": [
    "tyroid_data[\"Diagnosis\"].value_counts()"
   ]
  },
  {
   "cell_type": "markdown",
   "metadata": {},
   "source": [
    "<b>Çok büyük oranda bir dengesizlik yok."
   ]
  },
  {
   "cell_type": "code",
   "execution_count": 116,
   "metadata": {},
   "outputs": [
    {
     "data": {
      "text/html": [
       "<div>\n",
       "<style scoped>\n",
       "    .dataframe tbody tr th:only-of-type {\n",
       "        vertical-align: middle;\n",
       "    }\n",
       "\n",
       "    .dataframe tbody tr th {\n",
       "        vertical-align: top;\n",
       "    }\n",
       "\n",
       "    .dataframe thead th {\n",
       "        text-align: right;\n",
       "    }\n",
       "</style>\n",
       "<table border=\"1\" class=\"dataframe\">\n",
       "  <thead>\n",
       "    <tr style=\"text-align: right;\">\n",
       "      <th></th>\n",
       "      <th>Age</th>\n",
       "      <th>Gender</th>\n",
       "      <th>Country</th>\n",
       "      <th>Ethnicity</th>\n",
       "      <th>Family_History</th>\n",
       "      <th>Radiation_Exposure</th>\n",
       "      <th>Iodine_Deficiency</th>\n",
       "      <th>Smoking</th>\n",
       "      <th>Obesity</th>\n",
       "      <th>Diabetes</th>\n",
       "      <th>TSH_Level</th>\n",
       "      <th>T3_Level</th>\n",
       "      <th>T4_Level</th>\n",
       "      <th>Nodule_Size</th>\n",
       "      <th>Thyroid_Cancer_Risk</th>\n",
       "    </tr>\n",
       "  </thead>\n",
       "  <tbody>\n",
       "    <tr>\n",
       "      <th>0</th>\n",
       "      <td>66</td>\n",
       "      <td>1</td>\n",
       "      <td>7</td>\n",
       "      <td>3</td>\n",
       "      <td>0</td>\n",
       "      <td>1</td>\n",
       "      <td>0</td>\n",
       "      <td>0</td>\n",
       "      <td>0</td>\n",
       "      <td>0</td>\n",
       "      <td>9.37</td>\n",
       "      <td>1.67</td>\n",
       "      <td>6.16</td>\n",
       "      <td>1.08</td>\n",
       "      <td>2</td>\n",
       "    </tr>\n",
       "    <tr>\n",
       "      <th>1</th>\n",
       "      <td>29</td>\n",
       "      <td>1</td>\n",
       "      <td>3</td>\n",
       "      <td>4</td>\n",
       "      <td>0</td>\n",
       "      <td>1</td>\n",
       "      <td>0</td>\n",
       "      <td>0</td>\n",
       "      <td>0</td>\n",
       "      <td>0</td>\n",
       "      <td>1.83</td>\n",
       "      <td>1.73</td>\n",
       "      <td>10.54</td>\n",
       "      <td>4.05</td>\n",
       "      <td>2</td>\n",
       "    </tr>\n",
       "    <tr>\n",
       "      <th>2</th>\n",
       "      <td>86</td>\n",
       "      <td>1</td>\n",
       "      <td>6</td>\n",
       "      <td>3</td>\n",
       "      <td>0</td>\n",
       "      <td>0</td>\n",
       "      <td>0</td>\n",
       "      <td>0</td>\n",
       "      <td>0</td>\n",
       "      <td>0</td>\n",
       "      <td>6.26</td>\n",
       "      <td>2.59</td>\n",
       "      <td>10.57</td>\n",
       "      <td>4.61</td>\n",
       "      <td>2</td>\n",
       "    </tr>\n",
       "    <tr>\n",
       "      <th>3</th>\n",
       "      <td>75</td>\n",
       "      <td>0</td>\n",
       "      <td>4</td>\n",
       "      <td>2</td>\n",
       "      <td>0</td>\n",
       "      <td>0</td>\n",
       "      <td>0</td>\n",
       "      <td>0</td>\n",
       "      <td>0</td>\n",
       "      <td>0</td>\n",
       "      <td>4.10</td>\n",
       "      <td>2.62</td>\n",
       "      <td>11.04</td>\n",
       "      <td>2.46</td>\n",
       "      <td>3</td>\n",
       "    </tr>\n",
       "    <tr>\n",
       "      <th>4</th>\n",
       "      <td>35</td>\n",
       "      <td>0</td>\n",
       "      <td>3</td>\n",
       "      <td>1</td>\n",
       "      <td>1</td>\n",
       "      <td>1</td>\n",
       "      <td>0</td>\n",
       "      <td>0</td>\n",
       "      <td>0</td>\n",
       "      <td>0</td>\n",
       "      <td>9.10</td>\n",
       "      <td>2.11</td>\n",
       "      <td>10.71</td>\n",
       "      <td>2.11</td>\n",
       "      <td>1</td>\n",
       "    </tr>\n",
       "    <tr>\n",
       "      <th>...</th>\n",
       "      <td>...</td>\n",
       "      <td>...</td>\n",
       "      <td>...</td>\n",
       "      <td>...</td>\n",
       "      <td>...</td>\n",
       "      <td>...</td>\n",
       "      <td>...</td>\n",
       "      <td>...</td>\n",
       "      <td>...</td>\n",
       "      <td>...</td>\n",
       "      <td>...</td>\n",
       "      <td>...</td>\n",
       "      <td>...</td>\n",
       "      <td>...</td>\n",
       "      <td>...</td>\n",
       "    </tr>\n",
       "    <tr>\n",
       "      <th>12755</th>\n",
       "      <td>66</td>\n",
       "      <td>0</td>\n",
       "      <td>1</td>\n",
       "      <td>3</td>\n",
       "      <td>0</td>\n",
       "      <td>0</td>\n",
       "      <td>0</td>\n",
       "      <td>0</td>\n",
       "      <td>1</td>\n",
       "      <td>1</td>\n",
       "      <td>3.55</td>\n",
       "      <td>2.01</td>\n",
       "      <td>11.17</td>\n",
       "      <td>2.84</td>\n",
       "      <td>2</td>\n",
       "    </tr>\n",
       "    <tr>\n",
       "      <th>12756</th>\n",
       "      <td>52</td>\n",
       "      <td>0</td>\n",
       "      <td>6</td>\n",
       "      <td>4</td>\n",
       "      <td>0</td>\n",
       "      <td>1</td>\n",
       "      <td>0</td>\n",
       "      <td>0</td>\n",
       "      <td>0</td>\n",
       "      <td>1</td>\n",
       "      <td>5.23</td>\n",
       "      <td>2.40</td>\n",
       "      <td>11.51</td>\n",
       "      <td>0.22</td>\n",
       "      <td>3</td>\n",
       "    </tr>\n",
       "    <tr>\n",
       "      <th>12757</th>\n",
       "      <td>34</td>\n",
       "      <td>1</td>\n",
       "      <td>6</td>\n",
       "      <td>1</td>\n",
       "      <td>1</td>\n",
       "      <td>0</td>\n",
       "      <td>0</td>\n",
       "      <td>1</td>\n",
       "      <td>0</td>\n",
       "      <td>0</td>\n",
       "      <td>2.88</td>\n",
       "      <td>0.85</td>\n",
       "      <td>8.14</td>\n",
       "      <td>0.70</td>\n",
       "      <td>2</td>\n",
       "    </tr>\n",
       "    <tr>\n",
       "      <th>12758</th>\n",
       "      <td>58</td>\n",
       "      <td>0</td>\n",
       "      <td>6</td>\n",
       "      <td>1</td>\n",
       "      <td>0</td>\n",
       "      <td>0</td>\n",
       "      <td>1</td>\n",
       "      <td>1</td>\n",
       "      <td>0</td>\n",
       "      <td>1</td>\n",
       "      <td>8.03</td>\n",
       "      <td>1.49</td>\n",
       "      <td>8.17</td>\n",
       "      <td>1.65</td>\n",
       "      <td>2</td>\n",
       "    </tr>\n",
       "    <tr>\n",
       "      <th>12759</th>\n",
       "      <td>65</td>\n",
       "      <td>0</td>\n",
       "      <td>4</td>\n",
       "      <td>5</td>\n",
       "      <td>0</td>\n",
       "      <td>0</td>\n",
       "      <td>0</td>\n",
       "      <td>1</td>\n",
       "      <td>0</td>\n",
       "      <td>0</td>\n",
       "      <td>8.42</td>\n",
       "      <td>0.67</td>\n",
       "      <td>6.56</td>\n",
       "      <td>4.30</td>\n",
       "      <td>3</td>\n",
       "    </tr>\n",
       "  </tbody>\n",
       "</table>\n",
       "<p>12760 rows × 15 columns</p>\n",
       "</div>"
      ],
      "text/plain": [
       "       Age  Gender  Country  Ethnicity  Family_History  Radiation_Exposure  \\\n",
       "0       66       1        7          3               0                   1   \n",
       "1       29       1        3          4               0                   1   \n",
       "2       86       1        6          3               0                   0   \n",
       "3       75       0        4          2               0                   0   \n",
       "4       35       0        3          1               1                   1   \n",
       "...    ...     ...      ...        ...             ...                 ...   \n",
       "12755   66       0        1          3               0                   0   \n",
       "12756   52       0        6          4               0                   1   \n",
       "12757   34       1        6          1               1                   0   \n",
       "12758   58       0        6          1               0                   0   \n",
       "12759   65       0        4          5               0                   0   \n",
       "\n",
       "       Iodine_Deficiency  Smoking  Obesity  Diabetes  TSH_Level  T3_Level  \\\n",
       "0                      0        0        0         0       9.37      1.67   \n",
       "1                      0        0        0         0       1.83      1.73   \n",
       "2                      0        0        0         0       6.26      2.59   \n",
       "3                      0        0        0         0       4.10      2.62   \n",
       "4                      0        0        0         0       9.10      2.11   \n",
       "...                  ...      ...      ...       ...        ...       ...   \n",
       "12755                  0        0        1         1       3.55      2.01   \n",
       "12756                  0        0        0         1       5.23      2.40   \n",
       "12757                  0        1        0         0       2.88      0.85   \n",
       "12758                  1        1        0         1       8.03      1.49   \n",
       "12759                  0        1        0         0       8.42      0.67   \n",
       "\n",
       "       T4_Level  Nodule_Size  Thyroid_Cancer_Risk  \n",
       "0          6.16         1.08                    2  \n",
       "1         10.54         4.05                    2  \n",
       "2         10.57         4.61                    2  \n",
       "3         11.04         2.46                    3  \n",
       "4         10.71         2.11                    1  \n",
       "...         ...          ...                  ...  \n",
       "12755     11.17         2.84                    2  \n",
       "12756     11.51         0.22                    3  \n",
       "12757      8.14         0.70                    2  \n",
       "12758      8.17         1.65                    2  \n",
       "12759      6.56         4.30                    3  \n",
       "\n",
       "[12760 rows x 15 columns]"
      ]
     },
     "execution_count": 116,
     "metadata": {},
     "output_type": "execute_result"
    }
   ],
   "source": [
    "x=tyroid_data.iloc[:,0:15]\n",
    "x"
   ]
  },
  {
   "cell_type": "code",
   "execution_count": 117,
   "metadata": {},
   "outputs": [
    {
     "data": {
      "text/plain": [
       "0        1\n",
       "1        1\n",
       "2        1\n",
       "3        1\n",
       "4        1\n",
       "        ..\n",
       "12755    1\n",
       "12756    1\n",
       "12757    1\n",
       "12758    1\n",
       "12759    1\n",
       "Name: Diagnosis, Length: 12760, dtype: int64"
      ]
     },
     "execution_count": 117,
     "metadata": {},
     "output_type": "execute_result"
    }
   ],
   "source": [
    "y=tyroid_data.iloc[:,-1] #y=tyroid_data[\"Diagnosis\"]\n",
    "y"
   ]
  },
  {
   "cell_type": "code",
   "execution_count": 118,
   "metadata": {},
   "outputs": [],
   "source": [
    "x_train, x_test, y_train, y_test=train_test_split(x,y,test_size=0.3,random_state=42) #"
   ]
  },
  {
   "cell_type": "markdown",
   "metadata": {},
   "source": [
    "<b> Modelimizi kuralım:\n",
    " "
   ]
  },
  {
   "cell_type": "code",
   "execution_count": 119,
   "metadata": {},
   "outputs": [],
   "source": [
    "forest_model=RandomForestClassifier(n_estimators=100, max_depth= 15, min_samples_split=11, random_state=42) "
   ]
  },
  {
   "cell_type": "markdown",
   "metadata": {},
   "source": [
    "<b> Modelimizi eğitelim:"
   ]
  },
  {
   "cell_type": "code",
   "execution_count": 120,
   "metadata": {},
   "outputs": [],
   "source": [
    "forest_model.fit(x_train,y_train)\n",
    "y_prediction=forest_model.predict(x_test)  "
   ]
  },
  {
   "cell_type": "code",
   "execution_count": 121,
   "metadata": {},
   "outputs": [
    {
     "name": "stdout",
     "output_type": "stream",
     "text": [
      "accuracy value: 0.8270637408568443\n"
     ]
    }
   ],
   "source": [
    "print(\"accuracy value:\",sk.metrics.accuracy_score(y_test,y_prediction)) "
   ]
  },
  {
   "cell_type": "markdown",
   "metadata": {},
   "source": [
    "n_estimators=2 iken --->accuracy value 0.7723354231974922\n",
    "\n",
    "n_estimators=50 iken --->accuracy value 0.8138714733542319\n",
    "\n",
    "n_estimators=100, test_size=0.2 iken --->accuracy value 0.8162225705329154 / n_estimators=100, test_size=0.3 iken --->accuracy value 0.8223615464994776 / n_estimators=100,  max_depth= 15, test_size=0.3 iken --->accuracy value 0.8247126436781609\n",
    "\n",
    "n_estimators=100, max_depth= 15, min_samples_split=11, test_size=0.3 iken --->accuracy value 0.8270637408568443\n",
    "\n",
    "n_estimators=150 iken --->accuracy value 0.8158307210031348\n",
    "\n",
    "n_estimators=200 iken --->accuracy value 0.8158307210031348\n",
    "\n",
    "\"min_samples_leaf=2\" parametresi doğruluk değerini düşürdü...\n",
    "\n",
    "GridSearchCV veya RandomizedSearchCV kullanarak model parametreleri daha iyi optimize edilebilir..."
   ]
  },
  {
   "cell_type": "code",
   "execution_count": 122,
   "metadata": {},
   "outputs": [
    {
     "name": "stdout",
     "output_type": "stream",
     "text": [
      "precision value: 0.8533210332103321\n"
     ]
    }
   ],
   "source": [
    "print(\"precision value:\", sk.metrics.precision_score(y_test,y_prediction))"
   ]
  },
  {
   "cell_type": "markdown",
   "metadata": {},
   "source": [
    "<b> bizim için çok önemli bir metrik:"
   ]
  },
  {
   "cell_type": "code",
   "execution_count": 123,
   "metadata": {},
   "outputs": [
    {
     "name": "stdout",
     "output_type": "stream",
     "text": [
      "recall value: 0.9375\n"
     ]
    }
   ],
   "source": [
    "print(\"recall value:\", sk.metrics.recall_score(y_test,y_prediction)) #sesitivity"
   ]
  },
  {
   "cell_type": "code",
   "execution_count": 124,
   "metadata": {},
   "outputs": [
    {
     "name": "stdout",
     "output_type": "stream",
     "text": [
      "f1 score value: 0.8934320669671605\n"
     ]
    }
   ],
   "source": [
    "print(\"f1 score value:\", sk.metrics.f1_score(y_test,y_prediction))"
   ]
  },
  {
   "cell_type": "markdown",
   "metadata": {},
   "source": [
    "✔ Sensitivity (Recall - Duyarlılık): Gerçek pozitifleri doğru tahmin etme oranıdır, yani tüm gerçek hastaların kaçını hasta olarak tahmin ettiğimizi gösterir.\n",
    "\n",
    "✔ Specificity (Özgüllük): Gerçek negatifleri doğru tahmin etme oranıdır, yani sağlıklı bireyleri yanlışlıkla hasta olarak sınıflandırma ihtimalimizin ne kadar düşük olduğunu gösterir.\n",
    "\n",
    "✔ Precision (Kesinlik): Pozitif tahminlerimizin ne kadarının gerçekten doğru olduğunu gösterir, yani modelin \"hasta\" dediği bireylerin ne kadarının gerçekten hasta olduğunu ölçer.\n",
    "\n",
    "✔ F1 Score: Precision ve Recall'un dengeli bir ortalamasıdır, özellikle dengesiz veri setlerinde önemli olup hem yanlış pozitifleri hem de yanlış negatifleri dikkate alır.\n",
    "\n",
    "✔ Accuracy (Doğruluk): Modelin tüm verilerde ne kadar doğru tahmin yaptığını gösterir, ancak dengesiz veri setlerinde yanıltıcı olabilir."
   ]
  },
  {
   "cell_type": "code",
   "execution_count": 125,
   "metadata": {},
   "outputs": [
    {
     "data": {
      "image/png": "[encoded data removed]",
      "text/plain": [
       "<Figure size 432x288 with 1 Axes>"
      ]
     },
     "metadata": {
      "needs_background": "light"
     },
     "output_type": "display_data"
    }
   ],
   "source": [
    "cins=tyroid_data['Gender'].value_counts()\n",
    "bar=plt.bar(cins.index,cins.values ) #np.shape(tyroid_data)\n",
    "\n",
    "plt.xlabel(\"cinsiyet\")\n",
    "plt.ylabel(\"hasta sayisi\")\n",
    "plt.title(\"Cinsiyet - Hasta Sayisi Arasi İliski\")\n",
    "plt.show()"
   ]
  },
  {
   "cell_type": "code",
   "execution_count": 126,
   "metadata": {},
   "outputs": [
    {
     "data": {
      "image/png": "[encoded data removed]",
      "text/plain": [
       "<Figure size 432x288 with 1 Axes>"
      ]
     },
     "metadata": {
      "needs_background": "light"
     },
     "output_type": "display_data"
    }
   ],
   "source": [
    "country_counts = tyroid_data['Country'].value_counts()\n",
    "\n",
    "plt.bar(country_counts.index, country_counts.values)\n",
    "plt.xlabel(\"ulkeler\")\n",
    "plt.ylabel(\"hasta sayisi\")\n",
    "plt.title(\"ulke - Hasta Sayisi Arasi İliski\")\n",
    "plt.show()\n",
    "#'Brazil', 'China', 'Germany', 'India', 'Japan', 'Nigeria','Russia', 'South Korea', 'UK', 'USA' ->ulkeler"
   ]
  },
  {
   "cell_type": "code",
   "execution_count": 127,
   "metadata": {},
   "outputs": [
    {
     "data": {
      "image/png": "[encoded data removed]",
      "text/plain": [
       "<Figure size 432x288 with 1 Axes>"
      ]
     },
     "metadata": {
      "needs_background": "light"
     },
     "output_type": "display_data"
    }
   ],
   "source": [
    "seaborn.histplot(data=tyroid_data, x='Age', hue='Diagnosis', multiple=\"stack\") # hue= renk tonu (Diagnosis'e gore farkli renklerde gosterir)\n",
    "#multiple=\"stack\" -> gruplandirilmis verileri ust uste yigar. \n",
    "plt.xlabel(\"Age\")\n",
    "plt.ylabel(\"Number of Diagnosis\")\n",
    "plt.title(\"Yasa Gore Tiroid Kanseri Dagilimi\")\n",
    "plt.show()"
   ]
  },
  {
   "cell_type": "code",
   "execution_count": 128,
   "metadata": {},
   "outputs": [
    {
     "data": {
      "image/png": "[encoded data removed]",
      "text/plain": [
       "<Figure size 432x288 with 1 Axes>"
      ]
     },
     "metadata": {},
     "output_type": "display_data"
    }
   ],
   "source": [
    "diagnosis_counts = tyroid_data[\"Diagnosis\"].value_counts()\n",
    "label=[\"Beign (iyi huylu)\",\"Malign (kotu huylu)\"]\n",
    "\n",
    "plt.pie(diagnosis_counts, labels=label , autopct='%1.1f%%', startangle=180, colors=['lightblue', 'red'])\n",
    "plt.title(\"İyi Huylu - Kotu Huylu Tiroid Kanseri Dagilimi\")\n",
    "plt.show()"
   ]
  },
  {
   "cell_type": "code",
   "execution_count": 129,
   "metadata": {},
   "outputs": [
    {
     "data": {
      "text/plain": [
       "numpy.ndarray"
      ]
     },
     "execution_count": 129,
     "metadata": {},
     "output_type": "execute_result"
    }
   ],
   "source": [
    "type(y_prediction)"
   ]
  },
  {
   "cell_type": "code",
   "execution_count": 130,
   "metadata": {},
   "outputs": [],
   "source": [
    "y_pred_df=pd.DataFrame(y_prediction)"
   ]
  },
  {
   "cell_type": "code",
   "execution_count": 131,
   "metadata": {},
   "outputs": [
    {
     "data": {
      "text/plain": [
       "1    3252\n",
       "2     576\n",
       "dtype: int64"
      ]
     },
     "execution_count": 131,
     "metadata": {},
     "output_type": "execute_result"
    }
   ],
   "source": [
    "y_pred_df.value_counts()"
   ]
  },
  {
   "cell_type": "code",
   "execution_count": 132,
   "metadata": {},
   "outputs": [
    {
     "data": {
      "image/png": "[encoded data removed]",
      "text/plain": [
       "<Figure size 432x288 with 1 Axes>"
      ]
     },
     "metadata": {},
     "output_type": "display_data"
    }
   ],
   "source": [
    "pred_counts=y_pred_df.value_counts()\n",
    "label=[\"Beign (iyi huylu)\",\"Malign (kotu huylu)\"]\n",
    "\n",
    "plt.pie(pred_counts, labels=label , autopct='%1.1f%%', startangle=180, colors=['lightblue', 'red'])\n",
    "plt.title(\"İyi Huylu - Kötü Huylu Tiroid Kanseri Tahmin Dağılımı\")\n",
    "plt.show()"
   ]
  },
  {
   "cell_type": "code",
   "execution_count": 133,
   "metadata": {},
   "outputs": [
    {
     "data": {
      "image/png": "[encoded data removed]",
      "text/plain": [
       "<Figure size 432x288 with 1 Axes>"
      ]
     },
     "metadata": {},
     "output_type": "display_data"
    }
   ],
   "source": [
    "label=[\"medium\",\"high\",\"low\"]\n",
    "\n",
    "plt.pie(risks, labels=label , autopct='%1.1f%%', startangle=180, colors=['darkgreen', 'orange','blue'])\n",
    "plt.title(\"Tiroid Kanseri Riski Dağılımı\")\n",
    "plt.show()"
   ]
  },
  {
   "cell_type": "code",
   "execution_count": 134,
   "metadata": {},
   "outputs": [
    {
     "data": {
      "image/png": "[encoded data removed]",
      "text/plain": [
       "<Figure size 432x288 with 1 Axes>"
      ]
     },
     "metadata": {},
     "output_type": "display_data"
    }
   ],
   "source": [
    "Iodine_def=tyroid_data[\"Iodine_Deficiency\"].value_counts()\n",
    "label=[\"no\",\"yes\"]\n",
    "\n",
    "plt.pie(Iodine_def, labels=label , autopct='%1.1f%%', startangle=180, colors=['pink', 'yellow'])\n",
    "plt.title(\"Hastalarda İyot Eksikligi Dagilimi\")\n",
    "plt.show()"
   ]
  },
  {
   "cell_type": "code",
   "execution_count": 135,
   "metadata": {},
   "outputs": [
    {
     "data": {
      "image/png": "[encoded data removed]",
      "text/plain": [
       "<Figure size 432x288 with 1 Axes>"
      ]
     },
     "metadata": {
      "needs_background": "light"
     },
     "output_type": "display_data"
    }
   ],
   "source": [
    "seaborn.histplot(data=tyroid_data, x='Age', hue='Thyroid_Cancer_Risk', multiple=\"stack\") # hue= renk tonu (Diagnosis'e gore farkli renklerde gosterir)\n",
    "#multiple=\"stack\" -> gruplandirilmis verileri ust uste yigar. \n",
    "plt.xlabel(\"Age\")\n",
    "plt.ylabel(\"Number of Diagnosis\")\n",
    "plt.title(\"Yasa Gore Tiroid Kanseri Riski Dagilimi\")\n",
    "plt.show()"
   ]
  },
  {
   "cell_type": "code",
   "execution_count": null,
   "metadata": {},
   "outputs": [],
   "source": []
  }
 ],
 "metadata": {
  "kernelspec": {
   "display_name": "Python 3",
   "language": "python",
   "name": "python3"
  },
  "language_info": {
   "codemirror_mode": {
    "name": "ipython",
    "version": 3
   },
   "file_extension": ".py",
   "mimetype": "text/x-python",
   "name": "python",
   "nbconvert_exporter": "python",
   "pygments_lexer": "ipython3",
   "version": "3.8.5"
  }
 },
 "nbformat": 4,
 "nbformat_minor": 4
}
